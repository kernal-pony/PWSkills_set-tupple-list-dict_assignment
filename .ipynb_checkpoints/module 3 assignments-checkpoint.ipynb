{
 "cells": [
  {
   "cell_type": "markdown",
   "id": "fa1d0078-715a-4e28-b309-a1cfa8e3f198",
   "metadata": {},
   "source": [
    "### Discuss string slicing and provide examples"
   ]
  },
  {
   "cell_type": "raw",
   "id": "dc1c8519-ed1d-43b7-adf3-8edf3c02a036",
   "metadata": {},
   "source": [
    "what I understand is String slicing in Python allows us to access specific characters or substrings within a string by specifying a start and end index. \n",
    "The general syntax for string slicing is string we generally use is :\n",
    "                              [start:end:step]\n",
    "start denotes starting index\n",
    "end denotes ending index \n",
    "step denote jump nwe make in slicing substrings. It is optional , by default the stap is 1.\n"
   ]
  },
  {
   "cell_type": "code",
   "execution_count": 26,
   "id": "48b36e8b-0567-4dcc-b6a8-087ba9c802bb",
   "metadata": {},
   "outputs": [
    {
     "name": "stdout",
     "output_type": "stream",
     "text": [
      "ello\n",
      "orld\n",
      "Hello\n",
      "ing\n",
      "Programm\n",
      "W r tdnsa Wsil\n",
      "slliks WP ta stneduts era eW\n",
      "P\n",
      "y\n",
      "t\n",
      "h\n",
      "o\n",
      "n\n",
      "a\n",
      "c\n",
      "e\n",
      "g\n"
     ]
    }
   ],
   "source": [
    "#x Example\n",
    "# Example 1: Basic slicing\n",
    "s = \"Hello World\"\n",
    "\n",
    "# Get the substring from index 1 to 5 (excluding index 5)\n",
    "print(s[1:5])  # Output: \"ello\"\n",
    "\n",
    "# Get characters from index 7 to the end\n",
    "print(s[7:])   # Output: \"orld!\"\n",
    "\n",
    "# Get characters from the beginning to index 5 (excluding index 5)\n",
    "print(s[:5])   # Output: \"Hello\"\n",
    "\n",
    "# Example 2: Slicing with negative indices\n",
    "s = \"Python Programming\"\n",
    "\n",
    "# Get the last 3 characters\n",
    "print(s[-3:])   # Output: \"ing\"\n",
    "\n",
    "# Get characters from index 7 to 15 (excluding index 15)\n",
    "print(s[7:15])  # Output: \"Programm\"\n",
    "\n",
    "# Example 3: Slicing with step\n",
    "s = \"We are students at PW skills\"\n",
    "\n",
    "# Get every second character\n",
    "print(s[::2])   # Output: \"W r tdnsa Wsil\"\n",
    "\n",
    "# Reverse the string\n",
    "print(s[::-1])  # Output: \"slliks WP ta stneduts era eW\"\n",
    "\n",
    "# Example 4: Using slicing in a loop\n",
    "s = \"Python\"\n",
    "\n",
    "# Print each character in the string using slicing\n",
    "for char in s:\n",
    "    print(char)\n",
    "\n",
    "# Example 5: Slicing with step in a loop\n",
    "s = \"abcdefgh\"\n",
    "\n",
    "# Print every second character\n",
    "for char in s[::2]:\n",
    "    print(char)\n"
   ]
  },
  {
   "cell_type": "markdown",
   "id": "427f1087-65bf-4605-832b-429fd3cc1fa3",
   "metadata": {},
   "source": [
    "### Explain the key features of lists in Python"
   ]
  },
  {
   "cell_type": "raw",
   "id": "f079aab5-d561-45a7-a595-107688125c7d",
   "metadata": {},
   "source": [
    "Lists are ordered, mutable collections of elements that allow us to store HETEROGENEOUS collections of items. \n",
    "Key features are:\n",
    "1.Lists maintain the order of elements when we insert any element. \n",
    "This means that the position of each element is preserved, and we can access elements by their indices.\n",
    "\n",
    "2.Lists are mutable enough , which means we can change, add, or remove elements after the list is created.\n",
    "This flexibility makes lists very powerful for dynamic data handling.\n",
    "\n",
    "3.Lists can contain elements of different data types, including integers, floats, strings, etc. \n",
    "\n",
    "4.Lists in Python can grow or shrink dynamically as elements are added or removed.\n",
    "There is no need to specify the size of the list previously.\n",
    "\n",
    "5.Lists are iterable, which means we can iterate over all elements in the list using a loop.\n",
    "\n",
    "6.Lists can contain other lists as elements, allow us  the creation of nested data structures.\n",
    "\n"
   ]
  },
  {
   "cell_type": "code",
   "execution_count": 6,
   "id": "5ff372aa-1602-411d-b913-40724cd10132",
   "metadata": {},
   "outputs": [
    {
     "name": "stdout",
     "output_type": "stream",
     "text": [
      "1\n",
      "200\n",
      "[1, 2, 3, 'Python', True, False, [100, 200, 300]]\n",
      "[1, 2, 3, 'Python', True, False, [100, 200, 300], 400]\n",
      "[3, 'Python', True]\n",
      "[0, 1, 4, 9, 16]\n"
     ]
    }
   ],
   "source": [
    "#Example\n",
    "# Creating a list\n",
    "my_list = [1, 2, 3, \"Programming\", True,False,  [100,200,300]]\n",
    "\n",
    "# Accessing elements\n",
    "print(my_list[0])      # Output: 1\n",
    "print(my_list[-1][1])  # Output: 200 (accessing element from nested list)\n",
    "\n",
    "# Modifying elements\n",
    "my_list[3] = \"Python\"\n",
    "print(my_list)         # [1, 2, 3, 'Python', True, False, [100, 200, 300]]\n",
    "\n",
    "# Adding elements\n",
    "my_list.append(400)\n",
    "print(my_list)         # Output: [1, 2, 3, 'Python', True, False, [100, 200, 300], 400]\n",
    "# Slicing\n",
    "print(my_list[2:5])    # Output: [3, 'Python', True]\n",
    "\n",
    "# List comprehension\n",
    "squared_numbers = [x**2 for x in range(5)]\n",
    "print(squared_numbers)  # Output: [0, 1, 4, 9, 16]\n"
   ]
  },
  {
   "cell_type": "markdown",
   "id": "dbd5df04-340b-44e2-aeb8-6722d1e058e1",
   "metadata": {},
   "source": [
    "### Describe how to access, modify, and delete elements in a list with examples"
   ]
  },
  {
   "cell_type": "code",
   "execution_count": 8,
   "id": "b9251fe5-5ee7-40f4-8000-ee94097ab9d3",
   "metadata": {},
   "outputs": [
    {
     "name": "stdout",
     "output_type": "stream",
     "text": [
      "apple\n",
      "mango\n",
      "brinjal\n",
      "['banana', 'brinjal']\n"
     ]
    }
   ],
   "source": [
    "#accesing elements\n",
    "my_list = ['apple', 'banana', 'brinjal', 'mango']\n",
    "\n",
    "# Accessing single elements\n",
    "first_element = my_list[0]       # 'apple'\n",
    "\n",
    "print(first_element)\n",
    "\n",
    "\n",
    "last_element = my_list[-1]       # 'mango'\n",
    "print(last_element)\n",
    "\n",
    "\n",
    "third_element = my_list[2]       # 'brinjal'\n",
    "print(third_element)\n",
    "\n",
    "# Slicing to access multiple elements\n",
    "sliced_elements = my_list[1:3]   # ['banana', 'brinjal']\n",
    "print(sliced_elements)\n"
   ]
  },
  {
   "cell_type": "code",
   "execution_count": 13,
   "id": "068ac590-ba03-4356-8f28-623cc71c59f5",
   "metadata": {},
   "outputs": [
    {
     "name": "stdout",
     "output_type": "stream",
     "text": [
      "['apple', 'banana', 'brinjal', 'mango']\n",
      "['apple', 'orange', 'brinjal', 'mango']\n",
      "['apple', 'orange', 'pineapple', 'Avagaro']\n"
     ]
    }
   ],
   "source": [
    "# Modifying Elements\n",
    "\n",
    "my_list = ['apple', 'banana', 'brinjal', 'mango']\n",
    "print(my_list)\n",
    "\n",
    "# Modifying a single element\n",
    "my_list[1] = 'orange'\n",
    "print(my_list)\n",
    "\n",
    "# Modifying multiple elements using slicing\n",
    "my_list[2:] = ['pineapple', 'Avagaro']\n",
    "print(my_list)\n"
   ]
  },
  {
   "cell_type": "code",
   "execution_count": 14,
   "id": "82c635ed-8084-4797-a005-68d1d0f2e2d0",
   "metadata": {},
   "outputs": [
    {
     "name": "stdout",
     "output_type": "stream",
     "text": [
      "['apple', 'brinjal', 'mango']\n"
     ]
    }
   ],
   "source": [
    "# Deleting Elements\n",
    "\n",
    "my_list = ['apple', 'banana', 'brinjal', 'mango']\n",
    "# Deleting a single element\n",
    "del my_list[1]\n",
    "print(my_list)\n"
   ]
  },
  {
   "cell_type": "markdown",
   "id": "d406f72e-cbd7-4c04-ab83-dc3463c770bf",
   "metadata": {},
   "source": [
    "### Compare and contrast tuples and lists with examples"
   ]
  },
  {
   "cell_type": "raw",
   "id": "44d8a1a8-414d-46ae-be58-9d4c4f9dd9b7",
   "metadata": {},
   "source": [
    "Key difference between tuples and listt are:\n",
    "    \n",
    "    tuples:\n",
    "    1. they are immutable ie values once assigned cant be changed later.\n",
    "    2. the values in tupples are enclosed in ()\n",
    "    3. example:\n",
    "       tuple1=(3,4,5)\n",
    "       \n",
    "    lists:\n",
    "        1. they are mutable ie values once assigned can be changed later when needed\n",
    "        2. the values in Lists are enclosed in []\n",
    "        3. example:\n",
    "       lists=[2,3,4,5]\n",
    "\n",
    "    "
   ]
  },
  {
   "cell_type": "markdown",
   "id": "d3c873e6-f870-4a06-a7f7-1705ceb84121",
   "metadata": {},
   "source": [
    "###  Describe the key features of sets and provide examples of their uses\n"
   ]
  },
  {
   "cell_type": "raw",
   "id": "6b35b0a4-d7dd-4a9f-8ca2-1c0178a864fd",
   "metadata": {},
   "source": [
    "Sets in Python are unordered collections of unique elements. They do not have order i.e no indexing so cant be traced in using loop.\n",
    "They are defined by   {} and are mutable. wecn add elements in sets\n"
   ]
  },
  {
   "cell_type": "code",
   "execution_count": 15,
   "id": "e8b27abb-38ee-4a8e-bd12-1a62b8fc9581",
   "metadata": {},
   "outputs": [
    {
     "name": "stdout",
     "output_type": "stream",
     "text": [
      "{200, 100, 400, 300}\n"
     ]
    }
   ],
   "source": [
    "## example:  removing dupliocate elements\n",
    "numbers = [100, 200, 300, 300 ,400, 200]\n",
    "unique_numbers = set(numbers)\n",
    "print(unique_numbers) \n"
   ]
  },
  {
   "cell_type": "code",
   "execution_count": 17,
   "id": "51eb4eb9-ff6f-4d21-a655-d4d0a557d06b",
   "metadata": {},
   "outputs": [
    {
     "name": "stdout",
     "output_type": "stream",
     "text": [
      "True\n",
      "False\n"
     ]
    }
   ],
   "source": [
    "## examples :  checking memnbership\n",
    "\n",
    "\n",
    "fruits = {'apple', 'banana', 'orange'}\n",
    "print('banana' in fruits)  \n",
    "print('pineap' in fruits)  \n"
   ]
  },
  {
   "cell_type": "code",
   "execution_count": 2,
   "id": "f5368393-9d33-48e0-aabf-90b631c3101d",
   "metadata": {},
   "outputs": [
    {
     "name": "stdout",
     "output_type": "stream",
     "text": [
      "{'banana', 'apple', 'orange', 'pineapple'}\n"
     ]
    }
   ],
   "source": [
    "#adding elements in sets\n",
    "\n",
    "fruits = {'apple', 'banana', 'orange'}\n",
    "fruits.add(\"pineapple\")\n",
    "print(fruits)\n"
   ]
  },
  {
   "cell_type": "code",
   "execution_count": 5,
   "id": "65c835db-baa9-40df-a8d1-5a5062e7ee1f",
   "metadata": {},
   "outputs": [
    {
     "name": "stdout",
     "output_type": "stream",
     "text": [
      "{'banana', 'apple', 'orange'}\n"
     ]
    }
   ],
   "source": [
    "#removing elements in sets\n",
    "\n",
    "fruits = {'apple', 'banana', 'orange','pineapple'}\n",
    "fruits.remove(\"pineapple\")\n",
    "print(fruits)\n",
    "\n"
   ]
  },
  {
   "cell_type": "code",
   "execution_count": 11,
   "id": "6ec8abd7-06b5-48b8-9f65-cf777d61e5c8",
   "metadata": {},
   "outputs": [
    {
     "name": "stdout",
     "output_type": "stream",
     "text": [
      "{'singing', 'cooking', 'travelling', 'coding', 'dancing'}\n",
      "{'coding'}\n",
      "{'travelling', 'singing'}\n",
      "coding\n",
      "dancing\n",
      "cooking\n",
      "{0, 1, 64, 4, 36, 100, 9, 16, 49, 81, 25}\n"
     ]
    }
   ],
   "source": [
    "# Creating sets\n",
    "A = {\"travelling\",\"coding\",\"singing\"}\n",
    "B = {\"dancing\",\"coding\",\"cooking\"}\n",
    "\n",
    "\n",
    "# Set operations\n",
    "C = A | (B)\n",
    "print(C)  \n",
    "D = A & (B)\n",
    "print(D)  \n",
    "\n",
    "E = A - (B)\n",
    "print(E)  \n",
    "\n",
    "# Iterating over sets\n",
    "for element in B:\n",
    "    print(element)\n",
    "\n",
    "# Set comprehension\n",
    "squares = {x**2 for x in range(0,11)}\n",
    "print(squares) \n"
   ]
  },
  {
   "cell_type": "code",
   "execution_count": null,
   "id": "363b5eab-9941-4bf4-bfc5-e5bf47997f8b",
   "metadata": {},
   "outputs": [],
   "source": []
  },
  {
   "cell_type": "markdown",
   "id": "242dfb0a-2118-42e7-8dfb-0329f08b8ff9",
   "metadata": {},
   "source": [
    "##  Discuss the use cases of tuples and sets in Python programming\n"
   ]
  },
  {
   "cell_type": "raw",
   "id": "2829a548-209e-438a-99ec-48c8737a0110",
   "metadata": {},
   "source": [
    "Use cases of tuples:\n",
    "\n",
    "1. Tuples are used to store data that do not be changed, ensuring data security.\n",
    "2. Tuples are  used to return multiple values from a function efficiently without resorting to creating custom classes or dictionaries.\n",
    "3. Tuples are used as keys in dictionaries due to their immutability  making them suitable for options where uniqueness is  required."
   ]
  },
  {
   "cell_type": "raw",
   "id": "d66f2398-5ac5-4933-aa7b-f66a7b78859d",
   "metadata": {},
   "source": [
    "Use cases of Sets:\n",
    "1.  Sets are ideal for removing duplicate elements from a collection, as they  ensure each element is unique.\n",
    "\n",
    "2.  Sets can quickly check membership of elements in sets . they are quite enchanced.\n",
    "\n",
    "3.  Sets support operations like union, intersection, difference, and symmetric difference, which are useful in mathematical computations and data processing.\n",
    "\n",
    "4.  Sets are useful for filtering out unique items from a sequence or collection efficiently."
   ]
  },
  {
   "cell_type": "markdown",
   "id": "00461ddb-1825-45a2-bc74-29656cab5056",
   "metadata": {},
   "source": [
    "###  Describe how to add, modify, and delete items in a dictionary with examples\n"
   ]
  },
  {
   "cell_type": "code",
   "execution_count": 18,
   "id": "6d4493b6-0c75-4703-a1e7-a26ac12a1ea6",
   "metadata": {},
   "outputs": [
    {
     "name": "stdout",
     "output_type": "stream",
     "text": [
      "{'name': 'Arnab Lala', 'age': 30, 'city': 'Hyderabad'}\n"
     ]
    }
   ],
   "source": [
    "## example : \n",
    "#  an empty dictionary created\n",
    "my_dict = {}\n",
    "\n",
    "\n",
    "my_dict['name'] = 'Arnab Lala'\n",
    "my_dict['age'] = 30\n",
    "my_dict['city'] = 'Hyderabad'\n",
    "\n",
    "print(my_dict)\n",
    "\n"
   ]
  },
  {
   "cell_type": "code",
   "execution_count": 24,
   "id": "1e9c81f4-148a-4271-8b61-1fcedb630f95",
   "metadata": {},
   "outputs": [
    {
     "name": "stdout",
     "output_type": "stream",
     "text": [
      "{'name': 'Arnab Lala', 'age': 40, 'city': 'Chennai'}\n"
     ]
    }
   ],
   "source": [
    "# example:\n",
    "# Modifying an existing item\n",
    "my_dict['age'] = 40\n",
    "my_dict['city']= \"Chennai\"\n",
    "print(my_dict)\n",
    "\n"
   ]
  },
  {
   "cell_type": "code",
   "execution_count": 25,
   "id": "66a5d324-a94c-4fb5-8caf-f24396b5886e",
   "metadata": {},
   "outputs": [
    {
     "name": "stdout",
     "output_type": "stream",
     "text": [
      "{'name': 'Arnab Lala', 'age': 40}\n"
     ]
    }
   ],
   "source": [
    "## deleting items using del keyword\n",
    "# Deleting an item using del\n",
    "del my_dict['city']\n",
    "\n",
    "print(my_dict)\n",
    "\n"
   ]
  },
  {
   "cell_type": "markdown",
   "id": "008e90f3-c581-41fa-ac3c-4382c4d8cda3",
   "metadata": {},
   "source": [
    "###  Discuss the importance of dictionary keys being immutable and provide examples"
   ]
  },
  {
   "cell_type": "raw",
   "id": "5ca9c612-52c9-4617-87fb-33091681729f",
   "metadata": {},
   "source": [
    "I'm sorry. I dont this answer. Please guide me through the apt answer in next session.\n",
    "i choose not to answer the above question.thank you."
   ]
  }
 ],
 "metadata": {
  "kernelspec": {
   "display_name": "Python 3 (ipykernel)",
   "language": "python",
   "name": "python3"
  },
  "language_info": {
   "codemirror_mode": {
    "name": "ipython",
    "version": 3
   },
   "file_extension": ".py",
   "mimetype": "text/x-python",
   "name": "python",
   "nbconvert_exporter": "python",
   "pygments_lexer": "ipython3",
   "version": "3.10.8"
  }
 },
 "nbformat": 4,
 "nbformat_minor": 5
}
